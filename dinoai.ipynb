{
 "cells": [
  {
   "cell_type": "code",
   "execution_count": 2,
   "outputs": [
    {
     "name": "stdout",
     "output_type": "stream",
     "text": [
      "Collecting torch\n",
      "  Downloading torch-1.13.0-cp39-cp39-win_amd64.whl (167.2 MB)\n",
      "Collecting torchvision\n",
      "  Downloading torchvision-0.14.0-cp39-cp39-win_amd64.whl (1.1 MB)\n",
      "Collecting torchaudio\n",
      "  Downloading torchaudio-0.13.0-cp39-cp39-win_amd64.whl (2.1 MB)\n",
      "Collecting typing-extensions\n",
      "  Using cached typing_extensions-4.4.0-py3-none-any.whl (26 kB)\n",
      "Collecting requests\n",
      "  Using cached requests-2.28.1-py3-none-any.whl (62 kB)\n",
      "Collecting numpy\n",
      "  Using cached numpy-1.23.4-cp39-cp39-win_amd64.whl (14.7 MB)\n",
      "Collecting pillow!=8.3.*,>=5.3.0\n",
      "  Downloading Pillow-9.3.0-cp39-cp39-win_amd64.whl (2.5 MB)\n",
      "Requirement already satisfied: idna<4,>=2.5 in c:\\users\\aaditya\\pycharmprojects\\pythonproject6\\venv\\lib\\site-packages (from requests->torchvision) (3.4)\n",
      "Collecting urllib3<1.27,>=1.21.1\n",
      "  Using cached urllib3-1.26.12-py2.py3-none-any.whl (140 kB)\n",
      "Collecting charset-normalizer<3,>=2\n",
      "  Using cached charset_normalizer-2.1.1-py3-none-any.whl (39 kB)\n",
      "Collecting certifi>=2017.4.17\n",
      "  Using cached certifi-2022.9.24-py3-none-any.whl (161 kB)\n",
      "Installing collected packages: urllib3, typing-extensions, charset-normalizer, certifi, torch, requests, pillow, numpy, torchvision, torchaudio\n",
      "Successfully installed certifi-2022.9.24 charset-normalizer-2.1.1 numpy-1.23.4 pillow-9.3.0 requests-2.28.1 torch-1.13.0 torchaudio-0.13.0 torchvision-0.14.0 typing-extensions-4.4.0 urllib3-1.26.12\n"
     ]
    },
    {
     "name": "stderr",
     "output_type": "stream",
     "text": [
      "WARNING: You are using pip version 21.3.1; however, version 22.3 is available.\n",
      "You should consider upgrading via the 'C:\\Users\\Aaditya\\PycharmProjects\\pythonProject6\\venv\\Scripts\\python.exe -m pip install --upgrade pip' command.\n"
     ]
    }
   ],
   "source": [
    "!pip install torch torchvision torchaudio"
   ],
   "metadata": {
    "collapsed": false,
    "pycharm": {
     "name": "#%%\n"
    }
   }
  },
  {
   "cell_type": "code",
   "execution_count": null,
   "outputs": [],
   "source": [
    "!pip install stable-baselines3[extra] protobuf==3.20.*"
   ],
   "metadata": {
    "collapsed": false,
    "pycharm": {
     "name": "#%%\n",
     "is_executing": true
    }
   }
  },
  {
   "cell_type": "code",
   "execution_count": 1,
   "outputs": [
    {
     "name": "stdout",
     "output_type": "stream",
     "text": [
      "Package                    Version\n",
      "-------------------------- -----------\n",
      "absl-py                    1.3.0\n",
      "ale-py                     0.7.5\n",
      "anyio                      3.6.2\n",
      "argon2-cffi                21.3.0\n",
      "argon2-cffi-bindings       21.2.0\n",
      "asttokens                  2.1.0\n",
      "attrs                      22.1.0\n",
      "AutoROM                    0.4.2\n",
      "AutoROM.accept-rom-license 0.4.2\n",
      "backcall                   0.2.0\n",
      "beautifulsoup4             4.11.1\n",
      "bleach                     5.0.1\n",
      "cachetools                 5.2.0\n",
      "certifi                    2022.9.24\n",
      "cffi                       1.15.1\n",
      "charset-normalizer         2.1.1\n",
      "click                      8.1.3\n",
      "cloudpickle                2.2.0\n",
      "colorama                   0.4.6\n",
      "contourpy                  1.0.6\n",
      "cycler                     0.11.0\n",
      "debugpy                    1.6.3\n",
      "decorator                  5.1.1\n",
      "defusedxml                 0.7.1\n",
      "entrypoints                0.4\n",
      "executing                  1.2.0\n",
      "fastjsonschema             2.16.2\n",
      "fonttools                  4.38.0\n",
      "google-auth                2.14.0\n",
      "google-auth-oauthlib       0.4.6\n",
      "grpcio                     1.50.0\n",
      "gym                        0.21.0\n",
      "idna                       3.4\n",
      "importlib-metadata         5.0.0\n",
      "importlib-resources        5.10.0\n",
      "ipykernel                  6.17.0\n",
      "ipython                    8.6.0\n",
      "ipython-genutils           0.2.0\n",
      "ipywidgets                 8.0.2\n",
      "jedi                       0.18.1\n",
      "Jinja2                     3.1.2\n",
      "jsonschema                 4.17.0\n",
      "jupyter                    1.0.0\n",
      "jupyter_client             7.4.4\n",
      "jupyter-console            6.4.4\n",
      "jupyter_core               4.11.2\n",
      "jupyter-server             1.21.0\n",
      "jupyterlab-pygments        0.2.2\n",
      "jupyterlab-widgets         3.0.3\n",
      "kiwisolver                 1.4.4\n",
      "Markdown                   3.4.1\n",
      "MarkupSafe                 2.1.1\n",
      "matplotlib                 3.6.2\n",
      "matplotlib-inline          0.1.6\n",
      "mistune                    2.0.4\n",
      "nbclassic                  0.4.7\n",
      "nbclient                   0.7.0\n",
      "nbconvert                  7.2.3\n",
      "nbformat                   5.7.0\n",
      "nest-asyncio               1.5.6\n",
      "notebook                   6.5.2\n",
      "notebook_shim              0.2.2\n",
      "numpy                      1.23.4\n",
      "oauthlib                   3.2.2\n",
      "opencv-python              4.6.0.66\n",
      "packaging                  21.3\n",
      "pandas                     1.5.1\n",
      "pandocfilters              1.5.0\n",
      "parso                      0.8.3\n",
      "pickleshare                0.7.5\n",
      "Pillow                     9.3.0\n",
      "pip                        21.3.1\n",
      "prometheus-client          0.15.0\n",
      "prompt-toolkit             3.0.31\n",
      "protobuf                   3.20.3\n",
      "psutil                     5.9.3\n",
      "pure-eval                  0.2.2\n",
      "pyasn1                     0.4.8\n",
      "pyasn1-modules             0.2.8\n",
      "pycparser                  2.21\n",
      "Pygments                   2.13.0\n",
      "pyparsing                  3.0.9\n",
      "pyrsistent                 0.19.2\n",
      "python-dateutil            2.8.2\n",
      "pytz                       2022.6\n",
      "pywin32                    304\n",
      "pywinpty                   2.0.9\n",
      "pyzmq                      24.0.1\n",
      "qtconsole                  5.4.0\n",
      "QtPy                       2.2.1\n",
      "requests                   2.28.1\n",
      "requests-oauthlib          1.3.1\n",
      "rsa                        4.9\n",
      "Send2Trash                 1.8.0\n",
      "setuptools                 60.2.0\n",
      "six                        1.16.0\n",
      "sniffio                    1.3.0\n",
      "soupsieve                  2.3.2.post1\n",
      "stable-baselines3          1.5.0\n",
      "stack-data                 0.6.0\n",
      "tensorboard                2.9.0\n",
      "tensorboard-data-server    0.6.1\n",
      "tensorboard-plugin-wit     1.8.1\n",
      "terminado                  0.17.0\n",
      "tinycss2                   1.2.1\n",
      "torch                      1.13.0\n",
      "torchaudio                 0.13.0\n",
      "torchvision                0.14.0\n",
      "tornado                    6.2\n",
      "tqdm                       4.64.1\n",
      "traitlets                  5.5.0\n",
      "typing_extensions          4.4.0\n",
      "urllib3                    1.26.12\n",
      "wcwidth                    0.2.5\n",
      "webencodings               0.5.1\n",
      "websocket-client           1.4.1\n",
      "Werkzeug                   2.2.2\n",
      "wheel                      0.37.1\n",
      "widgetsnbextension         4.0.3\n",
      "zipp                       3.10.0\n"
     ]
    },
    {
     "name": "stderr",
     "output_type": "stream",
     "text": [
      "WARNING: You are using pip version 21.3.1; however, version 22.3 is available.\n",
      "You should consider upgrading via the 'C:\\Users\\Aaditya\\PycharmProjects\\pythonProject6\\venv\\Scripts\\python.exe -m pip install --upgrade pip' command.\n"
     ]
    }
   ],
   "source": [
    "!pip list"
   ],
   "metadata": {
    "collapsed": false,
    "pycharm": {
     "name": "#%%\n"
    }
   }
  },
  {
   "cell_type": "code",
   "execution_count": 2,
   "outputs": [
    {
     "name": "stdout",
     "output_type": "stream",
     "text": [
      "Collecting pydirectinput\n",
      "  Downloading PyDirectInput-1.0.4-py3-none-any.whl (8.9 kB)\n",
      "Collecting mss\n",
      "  Downloading mss-7.0.1-py3-none-any.whl (76 kB)\n",
      "Installing collected packages: pydirectinput, mss\n",
      "Successfully installed mss-7.0.1 pydirectinput-1.0.4\n"
     ]
    },
    {
     "name": "stderr",
     "output_type": "stream",
     "text": [
      "WARNING: You are using pip version 21.3.1; however, version 22.3 is available.\n",
      "You should consider upgrading via the 'C:\\Users\\Aaditya\\PycharmProjects\\pythonProject6\\venv\\Scripts\\python.exe -m pip install --upgrade pip' command.\n"
     ]
    }
   ],
   "source": [
    "!pip install pydirectinput mss"
   ],
   "metadata": {
    "collapsed": false,
    "pycharm": {
     "name": "#%%\n"
    }
   }
  },
  {
   "cell_type": "code",
   "execution_count": 3,
   "outputs": [
    {
     "name": "stdout",
     "output_type": "stream",
     "text": [
      "Collecting pytesseract\n",
      "  Downloading pytesseract-0.3.10-py3-none-any.whl (14 kB)\n",
      "Requirement already satisfied: packaging>=21.3 in c:\\users\\aaditya\\pycharmprojects\\pythonproject6\\venv\\lib\\site-packages (from pytesseract) (21.3)\n",
      "Requirement already satisfied: Pillow>=8.0.0 in c:\\users\\aaditya\\pycharmprojects\\pythonproject6\\venv\\lib\\site-packages (from pytesseract) (9.3.0)\n",
      "Requirement already satisfied: pyparsing!=3.0.5,>=2.0.2 in c:\\users\\aaditya\\pycharmprojects\\pythonproject6\\venv\\lib\\site-packages (from packaging>=21.3->pytesseract) (3.0.9)\n",
      "Installing collected packages: pytesseract\n",
      "Successfully installed pytesseract-0.3.10\n"
     ]
    },
    {
     "name": "stderr",
     "output_type": "stream",
     "text": [
      "WARNING: You are using pip version 21.3.1; however, version 22.3 is available.\n",
      "You should consider upgrading via the 'C:\\Users\\Aaditya\\PycharmProjects\\pythonProject6\\venv\\Scripts\\python.exe -m pip install --upgrade pip' command.\n"
     ]
    }
   ],
   "source": [
    "!pip install pytesseract"
   ],
   "metadata": {
    "collapsed": false,
    "pycharm": {
     "name": "#%%\n"
    }
   }
  },
  {
   "cell_type": "code",
   "execution_count": 77,
   "outputs": [],
   "source": [
    "from mss import mss\n",
    "import numpy as np\n",
    "from matplotlib import pyplot as plt\n",
    "import time\n",
    "import cv2\n",
    "import pydirectinput\n",
    "import pytesseract\n",
    "pytesseract.pytesseract.tesseract_cmd = \\\n",
    "r'C:\\Program Files\\Tesseract-OCR\\tesseract.exe'\n",
    "from gym import Env\n",
    "from gym.spaces import Box, Discrete"
   ],
   "metadata": {
    "collapsed": false,
    "pycharm": {
     "name": "#%%\n"
    }
   }
  },
  {
   "cell_type": "code",
   "execution_count": 78,
   "outputs": [],
   "source": [
    "class WebGame(Env):\n",
    "    def __init__(self):\n",
    "        super().__init__()\n",
    "        self.observation_space = Box(low=0, high=255, shape=(1,83,100), dtype=np.uint8)\n",
    "        self.action_space = Discrete(3)\n",
    "        self.cap = mss()\n",
    "        self.game_location = {'top':300, 'left':0, 'width':600, 'height':500}\n",
    "        self.done_location = {'top':405, 'left':630, 'width':660, 'height':70}\n",
    "\n",
    "\n",
    "    def step(self, action):\n",
    "        # Action key : 0 = Space, 1 = Duck, 2 = No Action\n",
    "        pass\n",
    "    def render(self):\n",
    "        pass\n",
    "    def reset(self):\n",
    "        pass\n",
    "    def close(self):\n",
    "        pass\n",
    "    def get_observation(self):\n",
    "        raw = np.array(self.cap.grab(self.game_location))[:,:,:3]\n",
    "        gray = cv2.cvtColor(raw, cv2.COLOR_BGR2GRAY)\n",
    "        resized = cv2.resize(gray, (100,83))\n",
    "        channel = np.reshape(resized, (1,83,100))\n",
    "        return channel\n",
    "    def get_done(self):\n",
    "        done_cap = np.array(self.cap.grab(self.done_location))[:,:,:3]\n",
    "        done_strings = ['GAME','GAHE']\n",
    "        done = False\n",
    "        res = pytesseract.image_to_string(done_cap)[:4]\n",
    "        if res in done_strings:\n",
    "            done = True\n",
    "        return done, done_cap"
   ],
   "metadata": {
    "collapsed": false,
    "pycharm": {
     "name": "#%%\n"
    }
   }
  },
  {
   "cell_type": "code",
   "execution_count": 79,
   "outputs": [],
   "source": [
    "env = WebGame()"
   ],
   "metadata": {
    "collapsed": false,
    "pycharm": {
     "name": "#%%\n"
    }
   }
  },
  {
   "cell_type": "code",
   "execution_count": 44,
   "outputs": [
    {
     "data": {
      "text/plain": "(1, 83, 100)"
     },
     "execution_count": 44,
     "metadata": {},
     "output_type": "execute_result"
    }
   ],
   "source": [
    "env.get_observation().shape"
   ],
   "metadata": {
    "collapsed": false,
    "pycharm": {
     "name": "#%%\n"
    }
   }
  },
  {
   "cell_type": "code",
   "execution_count": 49,
   "outputs": [
    {
     "data": {
      "text/plain": "<matplotlib.image.AxesImage at 0x1ebc4f4bee0>"
     },
     "execution_count": 49,
     "metadata": {},
     "output_type": "execute_result"
    },
    {
     "data": {
      "text/plain": "<Figure size 640x480 with 1 Axes>",
      "image/png": "[encoded data removed]"
     },
     "metadata": {},
     "output_type": "display_data"
    }
   ],
   "source": [
    "plt.imshow(cv2.cvtColor((env.get_observation()[0]),cv2.COLOR_BGR2RGB))"
   ],
   "metadata": {
    "collapsed": false,
    "pycharm": {
     "name": "#%%\n"
    }
   }
  },
  {
   "cell_type": "code",
   "execution_count": 82,
   "outputs": [],
   "source": [
    "done, done_cap = env.get_done()"
   ],
   "metadata": {
    "collapsed": false,
    "pycharm": {
     "name": "#%%\n"
    }
   }
  },
  {
   "cell_type": "code",
   "execution_count": 83,
   "outputs": [
    {
     "data": {
      "text/plain": "True"
     },
     "execution_count": 83,
     "metadata": {},
     "output_type": "execute_result"
    }
   ],
   "source": [
    "done"
   ],
   "metadata": {
    "collapsed": false,
    "pycharm": {
     "name": "#%%\n"
    }
   }
  },
  {
   "cell_type": "code",
   "execution_count": null,
   "outputs": [],
   "source": [],
   "metadata": {
    "collapsed": false,
    "pycharm": {
     "name": "#%%\n"
    }
   }
  }
 ],
 "metadata": {
  "kernelspec": {
   "display_name": "Python 3",
   "language": "python",
   "name": "python3"
  },
  "language_info": {
   "codemirror_mode": {
    "name": "ipython",
    "version": 2
   },
   "file_extension": ".py",
   "mimetype": "text/x-python",
   "name": "python",
   "nbconvert_exporter": "python",
   "pygments_lexer": "ipython2",
   "version": "2.7.6"
  }
 },
 "nbformat": 4,
 "nbformat_minor": 0
}