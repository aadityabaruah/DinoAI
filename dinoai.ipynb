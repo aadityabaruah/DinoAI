{
 "cells": [
  {
   "cell_type": "code",
   "execution_count": 2,
   "outputs": [
    {
     "name": "stdout",
     "output_type": "stream",
     "text": [
      "Collecting torch\n",
      "  Downloading torch-1.13.0-cp39-cp39-win_amd64.whl (167.2 MB)\n",
      "Collecting torchvision\n",
      "  Downloading torchvision-0.14.0-cp39-cp39-win_amd64.whl (1.1 MB)\n",
      "Collecting torchaudio\n",
      "  Downloading torchaudio-0.13.0-cp39-cp39-win_amd64.whl (2.1 MB)\n",
      "Collecting typing-extensions\n",
      "  Using cached typing_extensions-4.4.0-py3-none-any.whl (26 kB)\n",
      "Collecting requests\n",
      "  Using cached requests-2.28.1-py3-none-any.whl (62 kB)\n",
      "Collecting numpy\n",
      "  Using cached numpy-1.23.4-cp39-cp39-win_amd64.whl (14.7 MB)\n",
      "Collecting pillow!=8.3.*,>=5.3.0\n",
      "  Downloading Pillow-9.3.0-cp39-cp39-win_amd64.whl (2.5 MB)\n",
      "Requirement already satisfied: idna<4,>=2.5 in c:\\users\\aaditya\\pycharmprojects\\pythonproject6\\venv\\lib\\site-packages (from requests->torchvision) (3.4)\n",
      "Collecting urllib3<1.27,>=1.21.1\n",
      "  Using cached urllib3-1.26.12-py2.py3-none-any.whl (140 kB)\n",
      "Collecting charset-normalizer<3,>=2\n",
      "  Using cached charset_normalizer-2.1.1-py3-none-any.whl (39 kB)\n",
      "Collecting certifi>=2017.4.17\n",
      "  Using cached certifi-2022.9.24-py3-none-any.whl (161 kB)\n",
      "Installing collected packages: urllib3, typing-extensions, charset-normalizer, certifi, torch, requests, pillow, numpy, torchvision, torchaudio\n",
      "Successfully installed certifi-2022.9.24 charset-normalizer-2.1.1 numpy-1.23.4 pillow-9.3.0 requests-2.28.1 torch-1.13.0 torchaudio-0.13.0 torchvision-0.14.0 typing-extensions-4.4.0 urllib3-1.26.12\n"
     ]
    },
    {
     "name": "stderr",
     "output_type": "stream",
     "text": [
      "WARNING: You are using pip version 21.3.1; however, version 22.3 is available.\n",
      "You should consider upgrading via the 'C:\\Users\\Aaditya\\PycharmProjects\\pythonProject6\\venv\\Scripts\\python.exe -m pip install --upgrade pip' command.\n"
     ]
    }
   ],
   "source": [
    "!pip install torch torchvision torchaudio"
   ],
   "metadata": {
    "collapsed": false,
    "pycharm": {
     "name": "#%%\n"
    }
   }
  },
  {
   "cell_type": "code",
   "execution_count": null,
   "outputs": [],
   "source": [
    "!pip install stable-baselines3[extra] protobuf==3.20.*"
   ],
   "metadata": {
    "collapsed": false,
    "pycharm": {
     "name": "#%%\n",
     "is_executing": true
    }
   }
  },
  {
   "cell_type": "code",
   "execution_count": 60,
   "outputs": [
    {
     "name": "stdout",
     "output_type": "stream",
     "text": [
      "Package                    Version\n",
      "-------------------------- -----------\n",
      "absl-py                    1.3.0\n",
      "ale-py                     0.7.5\n",
      "anyio                      3.6.2\n",
      "argon2-cffi                21.3.0\n",
      "argon2-cffi-bindings       21.2.0\n",
      "asttokens                  2.1.0\n",
      "attrs                      22.1.0\n",
      "AutoROM                    0.4.2\n",
      "AutoROM.accept-rom-license 0.4.2\n",
      "backcall                   0.2.0\n",
      "beautifulsoup4             4.11.1\n",
      "bleach                     5.0.1\n",
      "cachetools                 5.2.0\n",
      "certifi                    2022.9.24\n",
      "cffi                       1.15.1\n",
      "charset-normalizer         2.1.1\n",
      "click                      8.1.3\n",
      "cloudpickle                2.2.0\n",
      "colorama                   0.4.6\n",
      "contourpy                  1.0.6\n",
      "cycler                     0.11.0\n",
      "debugpy                    1.6.3\n",
      "decorator                  5.1.1\n",
      "defusedxml                 0.7.1\n",
      "entrypoints                0.4\n",
      "executing                  1.2.0\n",
      "fastjsonschema             2.16.2\n",
      "fonttools                  4.38.0\n",
      "google-auth                2.14.0\n",
      "google-auth-oauthlib       0.4.6\n",
      "grpcio                     1.50.0\n",
      "gym                        0.21.0\n",
      "idna                       3.4\n",
      "importlib-metadata         5.0.0\n",
      "importlib-resources        5.10.0\n",
      "ipykernel                  6.17.0\n",
      "ipython                    8.6.0\n",
      "ipython-genutils           0.2.0\n",
      "ipywidgets                 8.0.2\n",
      "jedi                       0.18.1\n",
      "Jinja2                     3.1.2\n",
      "jsonschema                 4.17.0\n",
      "jupyter                    1.0.0\n",
      "jupyter_client             7.4.4\n",
      "jupyter-console            6.4.4\n",
      "jupyter_core               4.11.2\n",
      "jupyter-server             1.21.0\n",
      "jupyterlab-pygments        0.2.2\n",
      "jupyterlab-widgets         3.0.3\n",
      "kiwisolver                 1.4.4\n",
      "Markdown                   3.4.1\n",
      "MarkupSafe                 2.1.1\n",
      "matplotlib                 3.6.2\n",
      "matplotlib-inline          0.1.6\n",
      "mistune                    2.0.4\n",
      "mss                        7.0.1\n",
      "nbclassic                  0.4.7\n",
      "nbclient                   0.7.0\n",
      "nbconvert                  7.2.3\n",
      "nbformat                   5.7.0\n",
      "nest-asyncio               1.5.6\n",
      "notebook                   6.5.2\n",
      "notebook_shim              0.2.2\n",
      "numpy                      1.23.4\n",
      "oauthlib                   3.2.2\n",
      "opencv-python              4.6.0.66\n",
      "packaging                  21.3\n",
      "pandas                     1.5.1\n",
      "pandocfilters              1.5.0\n",
      "parso                      0.8.3\n",
      "pickleshare                0.7.5\n",
      "Pillow                     9.3.0\n",
      "pip                        21.3.1\n",
      "prometheus-client          0.15.0\n",
      "prompt-toolkit             3.0.31\n",
      "protobuf                   3.20.3\n",
      "psutil                     5.9.3\n",
      "pure-eval                  0.2.2\n",
      "pyasn1                     0.4.8\n",
      "pyasn1-modules             0.2.8\n",
      "pycparser                  2.21\n",
      "PyDirectInput              1.0.4\n",
      "Pygments                   2.13.0\n",
      "pyparsing                  3.0.9\n",
      "pyrsistent                 0.19.2\n",
      "pytesseract                0.3.10\n",
      "python-dateutil            2.8.2\n",
      "pytz                       2022.6\n",
      "pywin32                    304\n",
      "pywinpty                   2.0.9\n",
      "pyzmq                      24.0.1\n",
      "qtconsole                  5.4.0\n",
      "QtPy                       2.2.1\n",
      "requests                   2.28.1\n",
      "requests-oauthlib          1.3.1\n",
      "rsa                        4.9\n",
      "Send2Trash                 1.8.0\n",
      "setuptools                 60.2.0\n",
      "six                        1.16.0\n",
      "sniffio                    1.3.0\n",
      "soupsieve                  2.3.2.post1\n",
      "stable-baselines3          1.5.0\n",
      "stack-data                 0.6.0\n",
      "tensorboard                2.9.0\n",
      "tensorboard-data-server    0.6.1\n",
      "tensorboard-plugin-wit     1.8.1\n",
      "terminado                  0.17.0\n",
      "tinycss2                   1.2.1\n",
      "torch                      1.13.0\n",
      "torchaudio                 0.13.0\n",
      "torchvision                0.14.0\n",
      "tornado                    6.2\n",
      "tqdm                       4.64.1\n",
      "traitlets                  5.5.0\n",
      "typing_extensions          4.4.0\n",
      "urllib3                    1.26.12\n",
      "wcwidth                    0.2.5\n",
      "webencodings               0.5.1\n",
      "websocket-client           1.4.1\n",
      "Werkzeug                   2.2.2\n",
      "wheel                      0.37.1\n",
      "widgetsnbextension         4.0.3\n",
      "zipp                       3.10.0\n"
     ]
    },
    {
     "name": "stderr",
     "output_type": "stream",
     "text": [
      "WARNING: You are using pip version 21.3.1; however, version 22.3 is available.\n",
      "You should consider upgrading via the 'C:\\Users\\Aaditya\\PycharmProjects\\pythonProject6\\venv\\Scripts\\python.exe -m pip install --upgrade pip' command.\n"
     ]
    }
   ],
   "source": [
    "!pip list"
   ],
   "metadata": {
    "collapsed": false,
    "pycharm": {
     "name": "#%%\n"
    }
   }
  },
  {
   "cell_type": "code",
   "execution_count": 2,
   "outputs": [
    {
     "name": "stdout",
     "output_type": "stream",
     "text": [
      "Collecting pydirectinput\n",
      "  Downloading PyDirectInput-1.0.4-py3-none-any.whl (8.9 kB)\n",
      "Collecting mss\n",
      "  Downloading mss-7.0.1-py3-none-any.whl (76 kB)\n",
      "Installing collected packages: pydirectinput, mss\n",
      "Successfully installed mss-7.0.1 pydirectinput-1.0.4\n"
     ]
    },
    {
     "name": "stderr",
     "output_type": "stream",
     "text": [
      "WARNING: You are using pip version 21.3.1; however, version 22.3 is available.\n",
      "You should consider upgrading via the 'C:\\Users\\Aaditya\\PycharmProjects\\pythonProject6\\venv\\Scripts\\python.exe -m pip install --upgrade pip' command.\n"
     ]
    }
   ],
   "source": [
    "!pip install pydirectinput mss"
   ],
   "metadata": {
    "collapsed": false,
    "pycharm": {
     "name": "#%%\n"
    }
   }
  },
  {
   "cell_type": "code",
   "execution_count": 3,
   "outputs": [
    {
     "name": "stdout",
     "output_type": "stream",
     "text": [
      "Collecting pytesseract\n",
      "  Downloading pytesseract-0.3.10-py3-none-any.whl (14 kB)\n",
      "Requirement already satisfied: packaging>=21.3 in c:\\users\\aaditya\\pycharmprojects\\pythonproject6\\venv\\lib\\site-packages (from pytesseract) (21.3)\n",
      "Requirement already satisfied: Pillow>=8.0.0 in c:\\users\\aaditya\\pycharmprojects\\pythonproject6\\venv\\lib\\site-packages (from pytesseract) (9.3.0)\n",
      "Requirement already satisfied: pyparsing!=3.0.5,>=2.0.2 in c:\\users\\aaditya\\pycharmprojects\\pythonproject6\\venv\\lib\\site-packages (from packaging>=21.3->pytesseract) (3.0.9)\n",
      "Installing collected packages: pytesseract\n",
      "Successfully installed pytesseract-0.3.10\n"
     ]
    },
    {
     "name": "stderr",
     "output_type": "stream",
     "text": [
      "WARNING: You are using pip version 21.3.1; however, version 22.3 is available.\n",
      "You should consider upgrading via the 'C:\\Users\\Aaditya\\PycharmProjects\\pythonProject6\\venv\\Scripts\\python.exe -m pip install --upgrade pip' command.\n"
     ]
    }
   ],
   "source": [
    "!pip install pytesseract"
   ],
   "metadata": {
    "collapsed": false,
    "pycharm": {
     "name": "#%%\n"
    }
   }
  },
  {
   "cell_type": "code",
   "execution_count": 1,
   "outputs": [],
   "source": [
    "from mss import mss\n",
    "import numpy as np\n",
    "from matplotlib import pyplot as plt\n",
    "import time\n",
    "import cv2\n",
    "import pydirectinput\n",
    "import pytesseract\n",
    "pytesseract.pytesseract.tesseract_cmd = \\\n",
    "r'C:\\Program Files\\Tesseract-OCR\\tesseract.exe'\n",
    "from gym import Env\n",
    "from gym.spaces import Box, Discrete"
   ],
   "metadata": {
    "collapsed": false,
    "pycharm": {
     "name": "#%%\n"
    }
   }
  },
  {
   "cell_type": "code",
   "execution_count": 2,
   "outputs": [],
   "source": [
    "class WebGame(Env):\n",
    "    def __init__(self):\n",
    "        super().__init__()\n",
    "        self.observation_space = Box(low=0, high=255, shape=(1,83,100), dtype=np.uint8)\n",
    "        self.action_space = Discrete(3)\n",
    "        self.cap = mss()\n",
    "        self.game_location = {'top':300, 'left':0, 'width':600, 'height':500}\n",
    "        self.done_location = {'top':405, 'left':630, 'width':660, 'height':70}\n",
    "\n",
    "\n",
    "    def step(self, action):\n",
    "        # Action key : 0 = Space, 1 = Duck, 2 = No Action\n",
    "        action_map = {\n",
    "            0:'space',\n",
    "            1:'down',\n",
    "            2:'no_op'\n",
    "        }\n",
    "        if action != 2:\n",
    "            pydirectinput.press(action_map[action])\n",
    "        done, done_cap = self.get_done()\n",
    "        new_observation = self.get_observation()\n",
    "        reward = 1\n",
    "        info = {}\n",
    "        return new_observation, reward, done, info\n",
    "    def render(self):\n",
    "        cv2.imshow('Game', np.array(self.cap.grab(self.game_location))[:,:,:3])\n",
    "        if cv2.waitKey(1) & 0xFF == ord('q'):\n",
    "            self.close()\n",
    "    def reset(self):\n",
    "        time.sleep(1)\n",
    "        pydirectinput.click(x=150, y=150)\n",
    "        pydirectinput.press('space')\n",
    "        return self.get_observation()\n",
    "    def close(self):\n",
    "        cv2.destroyAllWindows()\n",
    "    def get_observation(self):\n",
    "        raw = np.array(self.cap.grab(self.game_location))[:,:,:3]\n",
    "        gray = cv2.cvtColor(raw, cv2.COLOR_BGR2GRAY)\n",
    "        resized = cv2.resize(gray, (100,83))\n",
    "        channel = np.reshape(resized, (1,83,100))\n",
    "        return channel\n",
    "    def get_done(self):\n",
    "        done_cap = np.array(self.cap.grab(self.done_location))[:,:,:3]\n",
    "        done_strings = ['GAME','GAHE']\n",
    "        done = False\n",
    "        res = pytesseract.image_to_string(done_cap)[:4]\n",
    "        if res in done_strings:\n",
    "            done = True\n",
    "        return done, done_cap"
   ],
   "metadata": {
    "collapsed": false,
    "pycharm": {
     "name": "#%%\n"
    }
   }
  },
  {
   "cell_type": "code",
   "execution_count": 3,
   "outputs": [],
   "source": [
    "env = WebGame()"
   ],
   "metadata": {
    "collapsed": false,
    "pycharm": {
     "name": "#%%\n"
    }
   }
  },
  {
   "cell_type": "code",
   "execution_count": 63,
   "outputs": [
    {
     "name": "stdout",
     "output_type": "stream",
     "text": [
      "Total reward episode 0 is 11\n",
      "Total reward episode 1 is 9\n",
      "Total reward episode 2 is 11\n"
     ]
    }
   ],
   "source": [
    "for episode in range(3):\n",
    "    obs = env.reset()\n",
    "    done = False\n",
    "    total_reward = 0\n",
    "    while not done:\n",
    "        obs, reward, done, info = env.step(env.action_space.sample())\n",
    "        total_reward += reward\n",
    "    print(f'Total reward episode {episode} is {total_reward}')"
   ],
   "metadata": {
    "collapsed": false,
    "pycharm": {
     "name": "#%%\n"
    }
   }
  },
  {
   "cell_type": "code",
   "execution_count": 4,
   "outputs": [],
   "source": [
    "import os\n",
    "from stable_baselines3.common.callbacks import BaseCallback\n",
    "from stable_baselines3.common import env_checker"
   ],
   "metadata": {
    "collapsed": false,
    "pycharm": {
     "name": "#%%\n"
    }
   }
  },
  {
   "cell_type": "code",
   "execution_count": 5,
   "outputs": [
    {
     "ename": "FailSafeException",
     "evalue": "PyDirectInput fail-safe triggered from mouse moving to a corner of the screen. To disable this fail-safe, set pydirectinput.FAILSAFE to False. DISABLING FAIL-SAFE IS NOT RECOMMENDED.",
     "output_type": "error",
     "traceback": [
      "\u001B[1;31m---------------------------------------------------------------------------\u001B[0m",
      "\u001B[1;31mFailSafeException\u001B[0m                         Traceback (most recent call last)",
      "Cell \u001B[1;32mIn [5], line 1\u001B[0m\n\u001B[1;32m----> 1\u001B[0m \u001B[43menv_checker\u001B[49m\u001B[38;5;241;43m.\u001B[39;49m\u001B[43mcheck_env\u001B[49m\u001B[43m(\u001B[49m\u001B[43menv\u001B[49m\u001B[43m)\u001B[49m\n",
      "File \u001B[1;32m~\\PycharmProjects\\pythonProject6\\venv\\lib\\site-packages\\stable_baselines3\\common\\env_checker.py:283\u001B[0m, in \u001B[0;36mcheck_env\u001B[1;34m(env, warn, skip_render_check)\u001B[0m\n\u001B[0;32m    278\u001B[0m         warnings\u001B[38;5;241m.\u001B[39mwarn(\n\u001B[0;32m    279\u001B[0m             \u001B[38;5;124mf\u001B[39m\u001B[38;5;124m\"\u001B[39m\u001B[38;5;124mYour action space has dtype \u001B[39m\u001B[38;5;132;01m{\u001B[39;00maction_space\u001B[38;5;241m.\u001B[39mdtype\u001B[38;5;132;01m}\u001B[39;00m\u001B[38;5;124m, we recommend using np.float32 to avoid cast errors.\u001B[39m\u001B[38;5;124m\"\u001B[39m\n\u001B[0;32m    280\u001B[0m         )\n\u001B[0;32m    282\u001B[0m \u001B[38;5;66;03m# ============ Check the returned values ===============\u001B[39;00m\n\u001B[1;32m--> 283\u001B[0m \u001B[43m_check_returned_values\u001B[49m\u001B[43m(\u001B[49m\u001B[43menv\u001B[49m\u001B[43m,\u001B[49m\u001B[43m \u001B[49m\u001B[43mobservation_space\u001B[49m\u001B[43m,\u001B[49m\u001B[43m \u001B[49m\u001B[43maction_space\u001B[49m\u001B[43m)\u001B[49m\n\u001B[0;32m    285\u001B[0m \u001B[38;5;66;03m# ==== Check the render method and the declared render modes ====\u001B[39;00m\n\u001B[0;32m    286\u001B[0m \u001B[38;5;28;01mif\u001B[39;00m \u001B[38;5;129;01mnot\u001B[39;00m skip_render_check:\n",
      "File \u001B[1;32m~\\PycharmProjects\\pythonProject6\\venv\\lib\\site-packages\\stable_baselines3\\common\\env_checker.py:142\u001B[0m, in \u001B[0;36m_check_returned_values\u001B[1;34m(env, observation_space, action_space)\u001B[0m\n\u001B[0;32m    138\u001B[0m \u001B[38;5;124;03m\"\"\"\u001B[39;00m\n\u001B[0;32m    139\u001B[0m \u001B[38;5;124;03mCheck the returned values by the env when calling `.reset()` or `.step()` methods.\u001B[39;00m\n\u001B[0;32m    140\u001B[0m \u001B[38;5;124;03m\"\"\"\u001B[39;00m\n\u001B[0;32m    141\u001B[0m \u001B[38;5;66;03m# because env inherits from gym.Env, we assume that `reset()` and `step()` methods exists\u001B[39;00m\n\u001B[1;32m--> 142\u001B[0m obs \u001B[38;5;241m=\u001B[39m \u001B[43menv\u001B[49m\u001B[38;5;241;43m.\u001B[39;49m\u001B[43mreset\u001B[49m\u001B[43m(\u001B[49m\u001B[43m)\u001B[49m\n\u001B[0;32m    144\u001B[0m \u001B[38;5;28;01mif\u001B[39;00m \u001B[38;5;28misinstance\u001B[39m(observation_space, spaces\u001B[38;5;241m.\u001B[39mDict):\n\u001B[0;32m    145\u001B[0m     \u001B[38;5;28;01massert\u001B[39;00m \u001B[38;5;28misinstance\u001B[39m(obs, \u001B[38;5;28mdict\u001B[39m), \u001B[38;5;124m\"\u001B[39m\u001B[38;5;124mThe observation returned by `reset()` must be a dictionary\u001B[39m\u001B[38;5;124m\"\u001B[39m\n",
      "Cell \u001B[1;32mIn [2], line 32\u001B[0m, in \u001B[0;36mWebGame.reset\u001B[1;34m(self)\u001B[0m\n\u001B[0;32m     30\u001B[0m time\u001B[38;5;241m.\u001B[39msleep(\u001B[38;5;241m1\u001B[39m)\n\u001B[0;32m     31\u001B[0m pydirectinput\u001B[38;5;241m.\u001B[39mclick(x\u001B[38;5;241m=\u001B[39m\u001B[38;5;241m150\u001B[39m, y\u001B[38;5;241m=\u001B[39m\u001B[38;5;241m150\u001B[39m)\n\u001B[1;32m---> 32\u001B[0m \u001B[43mpydirectinput\u001B[49m\u001B[38;5;241;43m.\u001B[39;49m\u001B[43mpress\u001B[49m\u001B[43m(\u001B[49m\u001B[38;5;124;43m'\u001B[39;49m\u001B[38;5;124;43mspace\u001B[39;49m\u001B[38;5;124;43m'\u001B[39;49m\u001B[43m)\u001B[49m\n\u001B[0;32m     33\u001B[0m \u001B[38;5;28;01mreturn\u001B[39;00m \u001B[38;5;28mself\u001B[39m\u001B[38;5;241m.\u001B[39mget_observation()\n",
      "File \u001B[1;32m~\\PycharmProjects\\pythonProject6\\venv\\lib\\site-packages\\pydirectinput\\__init__.py:242\u001B[0m, in \u001B[0;36m_genericPyDirectInputChecks.<locals>.wrapper\u001B[1;34m(*args, **kwargs)\u001B[0m\n\u001B[0;32m    239\u001B[0m funcArgs \u001B[38;5;241m=\u001B[39m inspect\u001B[38;5;241m.\u001B[39mgetcallargs(wrappedFunction, \u001B[38;5;241m*\u001B[39margs, \u001B[38;5;241m*\u001B[39m\u001B[38;5;241m*\u001B[39mkwargs)\n\u001B[0;32m    241\u001B[0m failSafeCheck()\n\u001B[1;32m--> 242\u001B[0m returnVal \u001B[38;5;241m=\u001B[39m wrappedFunction(\u001B[38;5;241m*\u001B[39margs, \u001B[38;5;241m*\u001B[39m\u001B[38;5;241m*\u001B[39mkwargs)\n\u001B[0;32m    243\u001B[0m _handlePause(funcArgs\u001B[38;5;241m.\u001B[39mget(\u001B[38;5;124m\"\u001B[39m\u001B[38;5;124m_pause\u001B[39m\u001B[38;5;124m\"\u001B[39m))\n\u001B[0;32m    244\u001B[0m \u001B[38;5;28;01mreturn\u001B[39;00m returnVal\n",
      "File \u001B[1;32m~\\PycharmProjects\\pythonProject6\\venv\\lib\\site-packages\\pydirectinput\\__init__.py:545\u001B[0m, in \u001B[0;36mpress\u001B[1;34m(keys, presses, interval, logScreenshot, _pause)\u001B[0m\n\u001B[0;32m    543\u001B[0m failSafeCheck()\n\u001B[0;32m    544\u001B[0m downed \u001B[38;5;241m=\u001B[39m keyDown(k)\n\u001B[1;32m--> 545\u001B[0m upped \u001B[38;5;241m=\u001B[39m \u001B[43mkeyUp\u001B[49m\u001B[43m(\u001B[49m\u001B[43mk\u001B[49m\u001B[43m)\u001B[49m\n\u001B[0;32m    546\u001B[0m \u001B[38;5;66;03m# Count key press as complete if key was \"downed\" and \"upped\" successfully\u001B[39;00m\n\u001B[0;32m    547\u001B[0m \u001B[38;5;28;01mif\u001B[39;00m downed \u001B[38;5;129;01mand\u001B[39;00m upped:\n",
      "File \u001B[1;32m~\\PycharmProjects\\pythonProject6\\venv\\lib\\site-packages\\pydirectinput\\__init__.py:241\u001B[0m, in \u001B[0;36m_genericPyDirectInputChecks.<locals>.wrapper\u001B[1;34m(*args, **kwargs)\u001B[0m\n\u001B[0;32m    237\u001B[0m \u001B[38;5;129m@functools\u001B[39m\u001B[38;5;241m.\u001B[39mwraps(wrappedFunction)\n\u001B[0;32m    238\u001B[0m \u001B[38;5;28;01mdef\u001B[39;00m \u001B[38;5;21mwrapper\u001B[39m(\u001B[38;5;241m*\u001B[39margs, \u001B[38;5;241m*\u001B[39m\u001B[38;5;241m*\u001B[39mkwargs):\n\u001B[0;32m    239\u001B[0m     funcArgs \u001B[38;5;241m=\u001B[39m inspect\u001B[38;5;241m.\u001B[39mgetcallargs(wrappedFunction, \u001B[38;5;241m*\u001B[39margs, \u001B[38;5;241m*\u001B[39m\u001B[38;5;241m*\u001B[39mkwargs)\n\u001B[1;32m--> 241\u001B[0m     \u001B[43mfailSafeCheck\u001B[49m\u001B[43m(\u001B[49m\u001B[43m)\u001B[49m\n\u001B[0;32m    242\u001B[0m     returnVal \u001B[38;5;241m=\u001B[39m wrappedFunction(\u001B[38;5;241m*\u001B[39margs, \u001B[38;5;241m*\u001B[39m\u001B[38;5;241m*\u001B[39mkwargs)\n\u001B[0;32m    243\u001B[0m     _handlePause(funcArgs\u001B[38;5;241m.\u001B[39mget(\u001B[38;5;124m\"\u001B[39m\u001B[38;5;124m_pause\u001B[39m\u001B[38;5;124m\"\u001B[39m))\n",
      "File \u001B[1;32m~\\PycharmProjects\\pythonProject6\\venv\\lib\\site-packages\\pydirectinput\\__init__.py:223\u001B[0m, in \u001B[0;36mfailSafeCheck\u001B[1;34m()\u001B[0m\n\u001B[0;32m    221\u001B[0m \u001B[38;5;28;01mdef\u001B[39;00m \u001B[38;5;21mfailSafeCheck\u001B[39m():\n\u001B[0;32m    222\u001B[0m     \u001B[38;5;28;01mif\u001B[39;00m FAILSAFE \u001B[38;5;129;01mand\u001B[39;00m \u001B[38;5;28mtuple\u001B[39m(position()) \u001B[38;5;129;01min\u001B[39;00m FAILSAFE_POINTS:\n\u001B[1;32m--> 223\u001B[0m         \u001B[38;5;28;01mraise\u001B[39;00m FailSafeException(\n\u001B[0;32m    224\u001B[0m             \u001B[38;5;124m\"\u001B[39m\u001B[38;5;124mPyDirectInput fail-safe triggered from mouse moving to a corner of the screen. To disable this \u001B[39m\u001B[38;5;124m\"\u001B[39m \\\n\u001B[0;32m    225\u001B[0m             \u001B[38;5;124m\"\u001B[39m\u001B[38;5;124mfail-safe, set pydirectinput.FAILSAFE to False. DISABLING FAIL-SAFE IS NOT RECOMMENDED.\u001B[39m\u001B[38;5;124m\"\u001B[39m\n\u001B[0;32m    226\u001B[0m         )\n",
      "\u001B[1;31mFailSafeException\u001B[0m: PyDirectInput fail-safe triggered from mouse moving to a corner of the screen. To disable this fail-safe, set pydirectinput.FAILSAFE to False. DISABLING FAIL-SAFE IS NOT RECOMMENDED."
     ]
    }
   ],
   "source": [
    "env_checker.check_env(env)"
   ],
   "metadata": {
    "collapsed": false,
    "pycharm": {
     "name": "#%%\n"
    }
   }
  },
  {
   "cell_type": "code",
   "execution_count": 11,
   "outputs": [],
   "source": [
    "class TrainAndLoggingCallback(BaseCallback):\n",
    "    def __init__(self, check_freq, save_path, verbose=1):\n",
    "        super(TrainAndLoggingCallback, self).__init__(verbose)\n",
    "        self.check_freq = check_freq\n",
    "        self.save_path = save_path\n",
    "\n",
    "    def _init_callback(self):\n",
    "        if self.save_path is not None:\n",
    "            os.makedirs(self.save_path, exist_ok=True)\n",
    "\n",
    "    def _on_step(self):\n",
    "        if self.n_calls % self.check_freq ==0:\n",
    "            model_path = os.path.join(self.save_path, 'best_model_{}'.format(self.n_calls))\n",
    "            self.model.save(model_path)\n",
    "        return True\n"
   ],
   "metadata": {
    "collapsed": false,
    "pycharm": {
     "name": "#%%\n"
    }
   }
  },
  {
   "cell_type": "code",
   "execution_count": 12,
   "outputs": [],
   "source": [
    "CHECKPOINT_DIR = './train/'\n",
    "LOG_DIR='./logs/'"
   ],
   "metadata": {
    "collapsed": false,
    "pycharm": {
     "name": "#%%\n"
    }
   }
  },
  {
   "cell_type": "code",
   "execution_count": 13,
   "outputs": [],
   "source": [
    "callback = TrainAndLoggingCallback(check_freq=1000, save_path=CHECKPOINT_DIR)\n"
   ],
   "metadata": {
    "collapsed": false,
    "pycharm": {
     "name": "#%%\n"
    }
   }
  },
  {
   "cell_type": "code",
   "execution_count": 14,
   "outputs": [],
   "source": [
    "from stable_baselines3 import DQN\n"
   ],
   "metadata": {
    "collapsed": false,
    "pycharm": {
     "name": "#%%\n"
    }
   }
  },
  {
   "cell_type": "code",
   "execution_count": 15,
   "outputs": [
    {
     "name": "stdout",
     "output_type": "stream",
     "text": [
      "Using cpu device\n",
      "Wrapping the env with a `Monitor` wrapper\n",
      "Wrapping the env in a DummyVecEnv.\n"
     ]
    }
   ],
   "source": [
    "model = DQN('CnnPolicy', env, tensorboard_log=LOG_DIR, verbose=1, buffer_size=600000, learning_starts=200)"
   ],
   "metadata": {
    "collapsed": false,
    "pycharm": {
     "name": "#%%\n"
    }
   }
  },
  {
   "cell_type": "code",
   "execution_count": 33,
   "outputs": [
    {
     "name": "stdout",
     "output_type": "stream",
     "text": [
      "Logging to ./logs/DQN_4\n",
      "----------------------------------\n",
      "| rollout/            |          |\n",
      "|    ep_len_mean      | 9.5      |\n",
      "|    ep_rew_mean      | 9.5      |\n",
      "|    exploration_rate | 0.278    |\n",
      "| time/               |          |\n",
      "|    episodes         | 4        |\n",
      "|    fps              | 1        |\n",
      "|    time_elapsed     | 29       |\n",
      "|    total_timesteps  | 38       |\n",
      "----------------------------------\n",
      "----------------------------------\n",
      "| rollout/            |          |\n",
      "|    ep_len_mean      | 9.38     |\n",
      "|    ep_rew_mean      | 9.38     |\n",
      "|    exploration_rate | 0.05     |\n",
      "| time/               |          |\n",
      "|    episodes         | 8        |\n",
      "|    fps              | 1        |\n",
      "|    time_elapsed     | 56       |\n",
      "|    total_timesteps  | 75       |\n",
      "----------------------------------\n",
      "----------------------------------\n",
      "| rollout/            |          |\n",
      "|    ep_len_mean      | 9.42     |\n",
      "|    ep_rew_mean      | 9.42     |\n",
      "|    exploration_rate | 0.05     |\n",
      "| time/               |          |\n",
      "|    episodes         | 12       |\n",
      "|    fps              | 1        |\n",
      "|    time_elapsed     | 83       |\n",
      "|    total_timesteps  | 113      |\n",
      "----------------------------------\n",
      "----------------------------------\n",
      "| rollout/            |          |\n",
      "|    ep_len_mean      | 9.75     |\n",
      "|    ep_rew_mean      | 9.75     |\n",
      "|    exploration_rate | 0.05     |\n",
      "| time/               |          |\n",
      "|    episodes         | 16       |\n",
      "|    fps              | 1        |\n",
      "|    time_elapsed     | 113      |\n",
      "|    total_timesteps  | 156      |\n",
      "----------------------------------\n",
      "----------------------------------\n",
      "| rollout/            |          |\n",
      "|    ep_len_mean      | 9.75     |\n",
      "|    ep_rew_mean      | 9.75     |\n",
      "|    exploration_rate | 0.05     |\n",
      "| time/               |          |\n",
      "|    episodes         | 20       |\n",
      "|    fps              | 1        |\n",
      "|    time_elapsed     | 140      |\n",
      "|    total_timesteps  | 195      |\n",
      "----------------------------------\n",
      "----------------------------------\n",
      "| rollout/            |          |\n",
      "|    ep_len_mean      | 9.38     |\n",
      "|    ep_rew_mean      | 9.38     |\n",
      "|    exploration_rate | 0.05     |\n",
      "| time/               |          |\n",
      "|    episodes         | 24       |\n",
      "|    fps              | 1        |\n",
      "|    time_elapsed     | 166      |\n",
      "|    total_timesteps  | 225      |\n",
      "| train/              |          |\n",
      "|    learning_rate    | 0.0001   |\n",
      "|    loss             | 0.466    |\n",
      "|    n_updates        | 6        |\n",
      "----------------------------------\n",
      "----------------------------------\n",
      "| rollout/            |          |\n",
      "|    ep_len_mean      | 9.07     |\n",
      "|    ep_rew_mean      | 9.07     |\n",
      "|    exploration_rate | 0.05     |\n",
      "| time/               |          |\n",
      "|    episodes         | 28       |\n",
      "|    fps              | 1        |\n",
      "|    time_elapsed     | 191      |\n",
      "|    total_timesteps  | 254      |\n",
      "| train/              |          |\n",
      "|    learning_rate    | 0.0001   |\n",
      "|    loss             | 0.351    |\n",
      "|    n_updates        | 13       |\n",
      "----------------------------------\n",
      "----------------------------------\n",
      "| rollout/            |          |\n",
      "|    ep_len_mean      | 8.84     |\n",
      "|    ep_rew_mean      | 8.84     |\n",
      "|    exploration_rate | 0.05     |\n",
      "| time/               |          |\n",
      "|    episodes         | 32       |\n",
      "|    fps              | 1        |\n",
      "|    time_elapsed     | 217      |\n",
      "|    total_timesteps  | 283      |\n",
      "| train/              |          |\n",
      "|    learning_rate    | 0.0001   |\n",
      "|    loss             | 0.179    |\n",
      "|    n_updates        | 20       |\n",
      "----------------------------------\n",
      "----------------------------------\n",
      "| rollout/            |          |\n",
      "|    ep_len_mean      | 8.67     |\n",
      "|    ep_rew_mean      | 8.67     |\n",
      "|    exploration_rate | 0.05     |\n",
      "| time/               |          |\n",
      "|    episodes         | 36       |\n",
      "|    fps              | 1        |\n",
      "|    time_elapsed     | 243      |\n",
      "|    total_timesteps  | 312      |\n",
      "| train/              |          |\n",
      "|    learning_rate    | 0.0001   |\n",
      "|    loss             | 0.00786  |\n",
      "|    n_updates        | 27       |\n",
      "----------------------------------\n",
      "----------------------------------\n",
      "| rollout/            |          |\n",
      "|    ep_len_mean      | 8.7      |\n",
      "|    ep_rew_mean      | 8.7      |\n",
      "|    exploration_rate | 0.05     |\n",
      "| time/               |          |\n",
      "|    episodes         | 40       |\n",
      "|    fps              | 1        |\n",
      "|    time_elapsed     | 268      |\n",
      "|    total_timesteps  | 348      |\n",
      "| train/              |          |\n",
      "|    learning_rate    | 0.0001   |\n",
      "|    loss             | 0.00872  |\n",
      "|    n_updates        | 36       |\n",
      "----------------------------------\n",
      "----------------------------------\n",
      "| rollout/            |          |\n",
      "|    ep_len_mean      | 9.14     |\n",
      "|    ep_rew_mean      | 9.14     |\n",
      "|    exploration_rate | 0.05     |\n",
      "| time/               |          |\n",
      "|    episodes         | 44       |\n",
      "|    fps              | 1        |\n",
      "|    time_elapsed     | 294      |\n",
      "|    total_timesteps  | 402      |\n",
      "| train/              |          |\n",
      "|    learning_rate    | 0.0001   |\n",
      "|    loss             | 0.00203  |\n",
      "|    n_updates        | 50       |\n",
      "----------------------------------\n",
      "----------------------------------\n",
      "| rollout/            |          |\n",
      "|    ep_len_mean      | 9.12     |\n",
      "|    ep_rew_mean      | 9.12     |\n",
      "|    exploration_rate | 0.05     |\n",
      "| time/               |          |\n",
      "|    episodes         | 48       |\n",
      "|    fps              | 1        |\n",
      "|    time_elapsed     | 321      |\n",
      "|    total_timesteps  | 438      |\n",
      "| train/              |          |\n",
      "|    learning_rate    | 0.0001   |\n",
      "|    loss             | 0.00183  |\n",
      "|    n_updates        | 59       |\n",
      "----------------------------------\n",
      "----------------------------------\n",
      "| rollout/            |          |\n",
      "|    ep_len_mean      | 9.02     |\n",
      "|    ep_rew_mean      | 9.02     |\n",
      "|    exploration_rate | 0.05     |\n",
      "| time/               |          |\n",
      "|    episodes         | 52       |\n",
      "|    fps              | 1        |\n",
      "|    time_elapsed     | 347      |\n",
      "|    total_timesteps  | 469      |\n",
      "| train/              |          |\n",
      "|    learning_rate    | 0.0001   |\n",
      "|    loss             | 0.000749 |\n",
      "|    n_updates        | 67       |\n",
      "----------------------------------\n"
     ]
    },
    {
     "ename": "KeyboardInterrupt",
     "evalue": "",
     "output_type": "error",
     "traceback": [
      "\u001B[1;31m---------------------------------------------------------------------------\u001B[0m",
      "\u001B[1;31mKeyboardInterrupt\u001B[0m                         Traceback (most recent call last)",
      "Cell \u001B[1;32mIn [33], line 1\u001B[0m\n\u001B[1;32m----> 1\u001B[0m \u001B[43mmodel\u001B[49m\u001B[38;5;241;43m.\u001B[39;49m\u001B[43mlearn\u001B[49m\u001B[43m(\u001B[49m\u001B[43mtotal_timesteps\u001B[49m\u001B[38;5;241;43m=\u001B[39;49m\u001B[38;5;241;43m500\u001B[39;49m\u001B[43m,\u001B[49m\u001B[43m \u001B[49m\u001B[43mcallback\u001B[49m\u001B[38;5;241;43m=\u001B[39;49m\u001B[43mcallback\u001B[49m\u001B[43m)\u001B[49m\n",
      "File \u001B[1;32m~\\PycharmProjects\\pythonProject6\\venv\\lib\\site-packages\\stable_baselines3\\dqn\\dqn.py:258\u001B[0m, in \u001B[0;36mDQN.learn\u001B[1;34m(self, total_timesteps, callback, log_interval, eval_env, eval_freq, n_eval_episodes, tb_log_name, eval_log_path, reset_num_timesteps)\u001B[0m\n\u001B[0;32m    245\u001B[0m \u001B[38;5;28;01mdef\u001B[39;00m \u001B[38;5;21mlearn\u001B[39m(\n\u001B[0;32m    246\u001B[0m     \u001B[38;5;28mself\u001B[39m,\n\u001B[0;32m    247\u001B[0m     total_timesteps: \u001B[38;5;28mint\u001B[39m,\n\u001B[1;32m   (...)\u001B[0m\n\u001B[0;32m    255\u001B[0m     reset_num_timesteps: \u001B[38;5;28mbool\u001B[39m \u001B[38;5;241m=\u001B[39m \u001B[38;5;28;01mTrue\u001B[39;00m,\n\u001B[0;32m    256\u001B[0m ) \u001B[38;5;241m-\u001B[39m\u001B[38;5;241m>\u001B[39m OffPolicyAlgorithm:\n\u001B[1;32m--> 258\u001B[0m     \u001B[38;5;28;01mreturn\u001B[39;00m \u001B[38;5;28;43msuper\u001B[39;49m\u001B[43m(\u001B[49m\u001B[43mDQN\u001B[49m\u001B[43m,\u001B[49m\u001B[43m \u001B[49m\u001B[38;5;28;43mself\u001B[39;49m\u001B[43m)\u001B[49m\u001B[38;5;241;43m.\u001B[39;49m\u001B[43mlearn\u001B[49m\u001B[43m(\u001B[49m\n\u001B[0;32m    259\u001B[0m \u001B[43m        \u001B[49m\u001B[43mtotal_timesteps\u001B[49m\u001B[38;5;241;43m=\u001B[39;49m\u001B[43mtotal_timesteps\u001B[49m\u001B[43m,\u001B[49m\n\u001B[0;32m    260\u001B[0m \u001B[43m        \u001B[49m\u001B[43mcallback\u001B[49m\u001B[38;5;241;43m=\u001B[39;49m\u001B[43mcallback\u001B[49m\u001B[43m,\u001B[49m\n\u001B[0;32m    261\u001B[0m \u001B[43m        \u001B[49m\u001B[43mlog_interval\u001B[49m\u001B[38;5;241;43m=\u001B[39;49m\u001B[43mlog_interval\u001B[49m\u001B[43m,\u001B[49m\n\u001B[0;32m    262\u001B[0m \u001B[43m        \u001B[49m\u001B[43meval_env\u001B[49m\u001B[38;5;241;43m=\u001B[39;49m\u001B[43meval_env\u001B[49m\u001B[43m,\u001B[49m\n\u001B[0;32m    263\u001B[0m \u001B[43m        \u001B[49m\u001B[43meval_freq\u001B[49m\u001B[38;5;241;43m=\u001B[39;49m\u001B[43meval_freq\u001B[49m\u001B[43m,\u001B[49m\n\u001B[0;32m    264\u001B[0m \u001B[43m        \u001B[49m\u001B[43mn_eval_episodes\u001B[49m\u001B[38;5;241;43m=\u001B[39;49m\u001B[43mn_eval_episodes\u001B[49m\u001B[43m,\u001B[49m\n\u001B[0;32m    265\u001B[0m \u001B[43m        \u001B[49m\u001B[43mtb_log_name\u001B[49m\u001B[38;5;241;43m=\u001B[39;49m\u001B[43mtb_log_name\u001B[49m\u001B[43m,\u001B[49m\n\u001B[0;32m    266\u001B[0m \u001B[43m        \u001B[49m\u001B[43meval_log_path\u001B[49m\u001B[38;5;241;43m=\u001B[39;49m\u001B[43meval_log_path\u001B[49m\u001B[43m,\u001B[49m\n\u001B[0;32m    267\u001B[0m \u001B[43m        \u001B[49m\u001B[43mreset_num_timesteps\u001B[49m\u001B[38;5;241;43m=\u001B[39;49m\u001B[43mreset_num_timesteps\u001B[49m\u001B[43m,\u001B[49m\n\u001B[0;32m    268\u001B[0m \u001B[43m    \u001B[49m\u001B[43m)\u001B[49m\n",
      "File \u001B[1;32m~\\PycharmProjects\\pythonProject6\\venv\\lib\\site-packages\\stable_baselines3\\common\\off_policy_algorithm.py:347\u001B[0m, in \u001B[0;36mOffPolicyAlgorithm.learn\u001B[1;34m(self, total_timesteps, callback, log_interval, eval_env, eval_freq, n_eval_episodes, tb_log_name, eval_log_path, reset_num_timesteps)\u001B[0m\n\u001B[0;32m    344\u001B[0m callback\u001B[38;5;241m.\u001B[39mon_training_start(\u001B[38;5;28mlocals\u001B[39m(), \u001B[38;5;28mglobals\u001B[39m())\n\u001B[0;32m    346\u001B[0m \u001B[38;5;28;01mwhile\u001B[39;00m \u001B[38;5;28mself\u001B[39m\u001B[38;5;241m.\u001B[39mnum_timesteps \u001B[38;5;241m<\u001B[39m total_timesteps:\n\u001B[1;32m--> 347\u001B[0m     rollout \u001B[38;5;241m=\u001B[39m \u001B[38;5;28;43mself\u001B[39;49m\u001B[38;5;241;43m.\u001B[39;49m\u001B[43mcollect_rollouts\u001B[49m\u001B[43m(\u001B[49m\n\u001B[0;32m    348\u001B[0m \u001B[43m        \u001B[49m\u001B[38;5;28;43mself\u001B[39;49m\u001B[38;5;241;43m.\u001B[39;49m\u001B[43menv\u001B[49m\u001B[43m,\u001B[49m\n\u001B[0;32m    349\u001B[0m \u001B[43m        \u001B[49m\u001B[43mtrain_freq\u001B[49m\u001B[38;5;241;43m=\u001B[39;49m\u001B[38;5;28;43mself\u001B[39;49m\u001B[38;5;241;43m.\u001B[39;49m\u001B[43mtrain_freq\u001B[49m\u001B[43m,\u001B[49m\n\u001B[0;32m    350\u001B[0m \u001B[43m        \u001B[49m\u001B[43maction_noise\u001B[49m\u001B[38;5;241;43m=\u001B[39;49m\u001B[38;5;28;43mself\u001B[39;49m\u001B[38;5;241;43m.\u001B[39;49m\u001B[43maction_noise\u001B[49m\u001B[43m,\u001B[49m\n\u001B[0;32m    351\u001B[0m \u001B[43m        \u001B[49m\u001B[43mcallback\u001B[49m\u001B[38;5;241;43m=\u001B[39;49m\u001B[43mcallback\u001B[49m\u001B[43m,\u001B[49m\n\u001B[0;32m    352\u001B[0m \u001B[43m        \u001B[49m\u001B[43mlearning_starts\u001B[49m\u001B[38;5;241;43m=\u001B[39;49m\u001B[38;5;28;43mself\u001B[39;49m\u001B[38;5;241;43m.\u001B[39;49m\u001B[43mlearning_starts\u001B[49m\u001B[43m,\u001B[49m\n\u001B[0;32m    353\u001B[0m \u001B[43m        \u001B[49m\u001B[43mreplay_buffer\u001B[49m\u001B[38;5;241;43m=\u001B[39;49m\u001B[38;5;28;43mself\u001B[39;49m\u001B[38;5;241;43m.\u001B[39;49m\u001B[43mreplay_buffer\u001B[49m\u001B[43m,\u001B[49m\n\u001B[0;32m    354\u001B[0m \u001B[43m        \u001B[49m\u001B[43mlog_interval\u001B[49m\u001B[38;5;241;43m=\u001B[39;49m\u001B[43mlog_interval\u001B[49m\u001B[43m,\u001B[49m\n\u001B[0;32m    355\u001B[0m \u001B[43m    \u001B[49m\u001B[43m)\u001B[49m\n\u001B[0;32m    357\u001B[0m     \u001B[38;5;28;01mif\u001B[39;00m rollout\u001B[38;5;241m.\u001B[39mcontinue_training \u001B[38;5;129;01mis\u001B[39;00m \u001B[38;5;28;01mFalse\u001B[39;00m:\n\u001B[0;32m    358\u001B[0m         \u001B[38;5;28;01mbreak\u001B[39;00m\n",
      "File \u001B[1;32m~\\PycharmProjects\\pythonProject6\\venv\\lib\\site-packages\\stable_baselines3\\common\\off_policy_algorithm.py:580\u001B[0m, in \u001B[0;36mOffPolicyAlgorithm.collect_rollouts\u001B[1;34m(self, env, callback, train_freq, replay_buffer, action_noise, learning_starts, log_interval)\u001B[0m\n\u001B[0;32m    577\u001B[0m actions, buffer_actions \u001B[38;5;241m=\u001B[39m \u001B[38;5;28mself\u001B[39m\u001B[38;5;241m.\u001B[39m_sample_action(learning_starts, action_noise, env\u001B[38;5;241m.\u001B[39mnum_envs)\n\u001B[0;32m    579\u001B[0m \u001B[38;5;66;03m# Rescale and perform action\u001B[39;00m\n\u001B[1;32m--> 580\u001B[0m new_obs, rewards, dones, infos \u001B[38;5;241m=\u001B[39m \u001B[43menv\u001B[49m\u001B[38;5;241;43m.\u001B[39;49m\u001B[43mstep\u001B[49m\u001B[43m(\u001B[49m\u001B[43mactions\u001B[49m\u001B[43m)\u001B[49m\n\u001B[0;32m    582\u001B[0m \u001B[38;5;28mself\u001B[39m\u001B[38;5;241m.\u001B[39mnum_timesteps \u001B[38;5;241m+\u001B[39m\u001B[38;5;241m=\u001B[39m env\u001B[38;5;241m.\u001B[39mnum_envs\n\u001B[0;32m    583\u001B[0m num_collected_steps \u001B[38;5;241m+\u001B[39m\u001B[38;5;241m=\u001B[39m \u001B[38;5;241m1\u001B[39m\n",
      "File \u001B[1;32m~\\PycharmProjects\\pythonProject6\\venv\\lib\\site-packages\\stable_baselines3\\common\\vec_env\\base_vec_env.py:162\u001B[0m, in \u001B[0;36mVecEnv.step\u001B[1;34m(self, actions)\u001B[0m\n\u001B[0;32m    155\u001B[0m \u001B[38;5;124;03m\"\"\"\u001B[39;00m\n\u001B[0;32m    156\u001B[0m \u001B[38;5;124;03mStep the environments with the given action\u001B[39;00m\n\u001B[0;32m    157\u001B[0m \n\u001B[0;32m    158\u001B[0m \u001B[38;5;124;03m:param actions: the action\u001B[39;00m\n\u001B[0;32m    159\u001B[0m \u001B[38;5;124;03m:return: observation, reward, done, information\u001B[39;00m\n\u001B[0;32m    160\u001B[0m \u001B[38;5;124;03m\"\"\"\u001B[39;00m\n\u001B[0;32m    161\u001B[0m \u001B[38;5;28mself\u001B[39m\u001B[38;5;241m.\u001B[39mstep_async(actions)\n\u001B[1;32m--> 162\u001B[0m \u001B[38;5;28;01mreturn\u001B[39;00m \u001B[38;5;28;43mself\u001B[39;49m\u001B[38;5;241;43m.\u001B[39;49m\u001B[43mstep_wait\u001B[49m\u001B[43m(\u001B[49m\u001B[43m)\u001B[49m\n",
      "File \u001B[1;32m~\\PycharmProjects\\pythonProject6\\venv\\lib\\site-packages\\stable_baselines3\\common\\vec_env\\dummy_vec_env.py:43\u001B[0m, in \u001B[0;36mDummyVecEnv.step_wait\u001B[1;34m(self)\u001B[0m\n\u001B[0;32m     41\u001B[0m \u001B[38;5;28;01mdef\u001B[39;00m \u001B[38;5;21mstep_wait\u001B[39m(\u001B[38;5;28mself\u001B[39m) \u001B[38;5;241m-\u001B[39m\u001B[38;5;241m>\u001B[39m VecEnvStepReturn:\n\u001B[0;32m     42\u001B[0m     \u001B[38;5;28;01mfor\u001B[39;00m env_idx \u001B[38;5;129;01min\u001B[39;00m \u001B[38;5;28mrange\u001B[39m(\u001B[38;5;28mself\u001B[39m\u001B[38;5;241m.\u001B[39mnum_envs):\n\u001B[1;32m---> 43\u001B[0m         obs, \u001B[38;5;28mself\u001B[39m\u001B[38;5;241m.\u001B[39mbuf_rews[env_idx], \u001B[38;5;28mself\u001B[39m\u001B[38;5;241m.\u001B[39mbuf_dones[env_idx], \u001B[38;5;28mself\u001B[39m\u001B[38;5;241m.\u001B[39mbuf_infos[env_idx] \u001B[38;5;241m=\u001B[39m \u001B[38;5;28;43mself\u001B[39;49m\u001B[38;5;241;43m.\u001B[39;49m\u001B[43menvs\u001B[49m\u001B[43m[\u001B[49m\u001B[43menv_idx\u001B[49m\u001B[43m]\u001B[49m\u001B[38;5;241;43m.\u001B[39;49m\u001B[43mstep\u001B[49m\u001B[43m(\u001B[49m\n\u001B[0;32m     44\u001B[0m \u001B[43m            \u001B[49m\u001B[38;5;28;43mself\u001B[39;49m\u001B[38;5;241;43m.\u001B[39;49m\u001B[43mactions\u001B[49m\u001B[43m[\u001B[49m\u001B[43menv_idx\u001B[49m\u001B[43m]\u001B[49m\n\u001B[0;32m     45\u001B[0m \u001B[43m        \u001B[49m\u001B[43m)\u001B[49m\n\u001B[0;32m     46\u001B[0m         \u001B[38;5;28;01mif\u001B[39;00m \u001B[38;5;28mself\u001B[39m\u001B[38;5;241m.\u001B[39mbuf_dones[env_idx]:\n\u001B[0;32m     47\u001B[0m             \u001B[38;5;66;03m# save final observation where user can get it, then reset\u001B[39;00m\n\u001B[0;32m     48\u001B[0m             \u001B[38;5;28mself\u001B[39m\u001B[38;5;241m.\u001B[39mbuf_infos[env_idx][\u001B[38;5;124m\"\u001B[39m\u001B[38;5;124mterminal_observation\u001B[39m\u001B[38;5;124m\"\u001B[39m] \u001B[38;5;241m=\u001B[39m obs\n",
      "File \u001B[1;32m~\\PycharmProjects\\pythonProject6\\venv\\lib\\site-packages\\stable_baselines3\\common\\monitor.py:90\u001B[0m, in \u001B[0;36mMonitor.step\u001B[1;34m(self, action)\u001B[0m\n\u001B[0;32m     88\u001B[0m \u001B[38;5;28;01mif\u001B[39;00m \u001B[38;5;28mself\u001B[39m\u001B[38;5;241m.\u001B[39mneeds_reset:\n\u001B[0;32m     89\u001B[0m     \u001B[38;5;28;01mraise\u001B[39;00m \u001B[38;5;167;01mRuntimeError\u001B[39;00m(\u001B[38;5;124m\"\u001B[39m\u001B[38;5;124mTried to step environment that needs reset\u001B[39m\u001B[38;5;124m\"\u001B[39m)\n\u001B[1;32m---> 90\u001B[0m observation, reward, done, info \u001B[38;5;241m=\u001B[39m \u001B[38;5;28;43mself\u001B[39;49m\u001B[38;5;241;43m.\u001B[39;49m\u001B[43menv\u001B[49m\u001B[38;5;241;43m.\u001B[39;49m\u001B[43mstep\u001B[49m\u001B[43m(\u001B[49m\u001B[43maction\u001B[49m\u001B[43m)\u001B[49m\n\u001B[0;32m     91\u001B[0m \u001B[38;5;28mself\u001B[39m\u001B[38;5;241m.\u001B[39mrewards\u001B[38;5;241m.\u001B[39mappend(reward)\n\u001B[0;32m     92\u001B[0m \u001B[38;5;28;01mif\u001B[39;00m done:\n",
      "Cell \u001B[1;32mIn [22], line 21\u001B[0m, in \u001B[0;36mWebGame.step\u001B[1;34m(self, action)\u001B[0m\n\u001B[0;32m     19\u001B[0m     pydirectinput\u001B[38;5;241m.\u001B[39mpress(action_map[action])\n\u001B[0;32m     20\u001B[0m done, done_cap \u001B[38;5;241m=\u001B[39m \u001B[38;5;28mself\u001B[39m\u001B[38;5;241m.\u001B[39mget_done()\n\u001B[1;32m---> 21\u001B[0m new_observation \u001B[38;5;241m=\u001B[39m \u001B[38;5;28;43mself\u001B[39;49m\u001B[38;5;241;43m.\u001B[39;49m\u001B[43mget_observation\u001B[49m\u001B[43m(\u001B[49m\u001B[43m)\u001B[49m\n\u001B[0;32m     22\u001B[0m reward \u001B[38;5;241m=\u001B[39m \u001B[38;5;241m1\u001B[39m\n\u001B[0;32m     23\u001B[0m info \u001B[38;5;241m=\u001B[39m {}\n",
      "Cell \u001B[1;32mIn [22], line 37\u001B[0m, in \u001B[0;36mWebGame.get_observation\u001B[1;34m(self)\u001B[0m\n\u001B[0;32m     36\u001B[0m \u001B[38;5;28;01mdef\u001B[39;00m \u001B[38;5;21mget_observation\u001B[39m(\u001B[38;5;28mself\u001B[39m):\n\u001B[1;32m---> 37\u001B[0m     raw \u001B[38;5;241m=\u001B[39m np\u001B[38;5;241m.\u001B[39marray(\u001B[38;5;28;43mself\u001B[39;49m\u001B[38;5;241;43m.\u001B[39;49m\u001B[43mcap\u001B[49m\u001B[38;5;241;43m.\u001B[39;49m\u001B[43mgrab\u001B[49m\u001B[43m(\u001B[49m\u001B[38;5;28;43mself\u001B[39;49m\u001B[38;5;241;43m.\u001B[39;49m\u001B[43mgame_location\u001B[49m\u001B[43m)\u001B[49m)[:,:,:\u001B[38;5;241m3\u001B[39m]\n\u001B[0;32m     38\u001B[0m     gray \u001B[38;5;241m=\u001B[39m cv2\u001B[38;5;241m.\u001B[39mcvtColor(raw, cv2\u001B[38;5;241m.\u001B[39mCOLOR_BGR2GRAY)\n\u001B[0;32m     39\u001B[0m     resized \u001B[38;5;241m=\u001B[39m cv2\u001B[38;5;241m.\u001B[39mresize(gray, (\u001B[38;5;241m100\u001B[39m,\u001B[38;5;241m83\u001B[39m))\n",
      "File \u001B[1;32m~\\PycharmProjects\\pythonProject6\\venv\\lib\\site-packages\\mss\\base.py:76\u001B[0m, in \u001B[0;36mMSSBase.grab\u001B[1;34m(self, monitor)\u001B[0m\n\u001B[0;32m     68\u001B[0m     monitor \u001B[38;5;241m=\u001B[39m {\n\u001B[0;32m     69\u001B[0m         \u001B[38;5;124m\"\u001B[39m\u001B[38;5;124mleft\u001B[39m\u001B[38;5;124m\"\u001B[39m: monitor[\u001B[38;5;241m0\u001B[39m],\n\u001B[0;32m     70\u001B[0m         \u001B[38;5;124m\"\u001B[39m\u001B[38;5;124mtop\u001B[39m\u001B[38;5;124m\"\u001B[39m: monitor[\u001B[38;5;241m1\u001B[39m],\n\u001B[0;32m     71\u001B[0m         \u001B[38;5;124m\"\u001B[39m\u001B[38;5;124mwidth\u001B[39m\u001B[38;5;124m\"\u001B[39m: monitor[\u001B[38;5;241m2\u001B[39m] \u001B[38;5;241m-\u001B[39m monitor[\u001B[38;5;241m0\u001B[39m],\n\u001B[0;32m     72\u001B[0m         \u001B[38;5;124m\"\u001B[39m\u001B[38;5;124mheight\u001B[39m\u001B[38;5;124m\"\u001B[39m: monitor[\u001B[38;5;241m3\u001B[39m] \u001B[38;5;241m-\u001B[39m monitor[\u001B[38;5;241m1\u001B[39m],\n\u001B[0;32m     73\u001B[0m     }\n\u001B[0;32m     75\u001B[0m \u001B[38;5;28;01mwith\u001B[39;00m lock:\n\u001B[1;32m---> 76\u001B[0m     \u001B[38;5;28;01mreturn\u001B[39;00m \u001B[38;5;28;43mself\u001B[39;49m\u001B[38;5;241;43m.\u001B[39;49m\u001B[43m_grab_impl\u001B[49m\u001B[43m(\u001B[49m\u001B[43mmonitor\u001B[49m\u001B[43m)\u001B[49m\n",
      "File \u001B[1;32m~\\PycharmProjects\\pythonProject6\\venv\\lib\\site-packages\\mss\\windows.py:267\u001B[0m, in \u001B[0;36mMSS._grab_impl\u001B[1;34m(self, monitor)\u001B[0m\n\u001B[0;32m    264\u001B[0m     MSS\u001B[38;5;241m.\u001B[39mbmp \u001B[38;5;241m=\u001B[39m \u001B[38;5;28mself\u001B[39m\u001B[38;5;241m.\u001B[39mgdi32\u001B[38;5;241m.\u001B[39mCreateCompatibleBitmap(srcdc, width, height)\n\u001B[0;32m    265\u001B[0m     \u001B[38;5;28mself\u001B[39m\u001B[38;5;241m.\u001B[39mgdi32\u001B[38;5;241m.\u001B[39mSelectObject(memdc, MSS\u001B[38;5;241m.\u001B[39mbmp)\n\u001B[1;32m--> 267\u001B[0m \u001B[38;5;28;43mself\u001B[39;49m\u001B[38;5;241;43m.\u001B[39;49m\u001B[43mgdi32\u001B[49m\u001B[38;5;241;43m.\u001B[39;49m\u001B[43mBitBlt\u001B[49m\u001B[43m(\u001B[49m\n\u001B[0;32m    268\u001B[0m \u001B[43m    \u001B[49m\u001B[43mmemdc\u001B[49m\u001B[43m,\u001B[49m\n\u001B[0;32m    269\u001B[0m \u001B[43m    \u001B[49m\u001B[38;5;241;43m0\u001B[39;49m\u001B[43m,\u001B[49m\n\u001B[0;32m    270\u001B[0m \u001B[43m    \u001B[49m\u001B[38;5;241;43m0\u001B[39;49m\u001B[43m,\u001B[49m\n\u001B[0;32m    271\u001B[0m \u001B[43m    \u001B[49m\u001B[43mwidth\u001B[49m\u001B[43m,\u001B[49m\n\u001B[0;32m    272\u001B[0m \u001B[43m    \u001B[49m\u001B[43mheight\u001B[49m\u001B[43m,\u001B[49m\n\u001B[0;32m    273\u001B[0m \u001B[43m    \u001B[49m\u001B[43msrcdc\u001B[49m\u001B[43m,\u001B[49m\n\u001B[0;32m    274\u001B[0m \u001B[43m    \u001B[49m\u001B[43mmonitor\u001B[49m\u001B[43m[\u001B[49m\u001B[38;5;124;43m\"\u001B[39;49m\u001B[38;5;124;43mleft\u001B[39;49m\u001B[38;5;124;43m\"\u001B[39;49m\u001B[43m]\u001B[49m\u001B[43m,\u001B[49m\n\u001B[0;32m    275\u001B[0m \u001B[43m    \u001B[49m\u001B[43mmonitor\u001B[49m\u001B[43m[\u001B[49m\u001B[38;5;124;43m\"\u001B[39;49m\u001B[38;5;124;43mtop\u001B[39;49m\u001B[38;5;124;43m\"\u001B[39;49m\u001B[43m]\u001B[49m\u001B[43m,\u001B[49m\n\u001B[0;32m    276\u001B[0m \u001B[43m    \u001B[49m\u001B[43mSRCCOPY\u001B[49m\u001B[43m \u001B[49m\u001B[38;5;241;43m|\u001B[39;49m\u001B[43m \u001B[49m\u001B[43mCAPTUREBLT\u001B[49m\u001B[43m,\u001B[49m\n\u001B[0;32m    277\u001B[0m \u001B[43m\u001B[49m\u001B[43m)\u001B[49m\n\u001B[0;32m    278\u001B[0m bits \u001B[38;5;241m=\u001B[39m \u001B[38;5;28mself\u001B[39m\u001B[38;5;241m.\u001B[39mgdi32\u001B[38;5;241m.\u001B[39mGetDIBits(\n\u001B[0;32m    279\u001B[0m     memdc, MSS\u001B[38;5;241m.\u001B[39mbmp, \u001B[38;5;241m0\u001B[39m, height, \u001B[38;5;28mself\u001B[39m\u001B[38;5;241m.\u001B[39m_data, \u001B[38;5;28mself\u001B[39m\u001B[38;5;241m.\u001B[39m_bmi, DIB_RGB_COLORS\n\u001B[0;32m    280\u001B[0m )\n\u001B[0;32m    281\u001B[0m \u001B[38;5;28;01mif\u001B[39;00m bits \u001B[38;5;241m!=\u001B[39m height:\n",
      "\u001B[1;31mKeyboardInterrupt\u001B[0m: "
     ]
    }
   ],
   "source": [
    "model.learn(total_timesteps=500, callback=callback)\n"
   ],
   "metadata": {
    "collapsed": false,
    "pycharm": {
     "name": "#%%\n"
    }
   }
  },
  {
   "cell_type": "markdown",
   "source": [
    " EST MODEL"
   ],
   "metadata": {
    "collapsed": false,
    "pycharm": {
     "name": "#%% md\n"
    }
   }
  },
  {
   "cell_type": "code",
   "execution_count": null,
   "outputs": [],
   "source": [],
   "metadata": {
    "collapsed": false,
    "pycharm": {
     "name": "#%%\n"
    }
   }
  },
  {
   "cell_type": "code",
   "execution_count": 19,
   "outputs": [
    {
     "data": {
      "text/plain": "<stable_baselines3.dqn.dqn.DQN at 0x1f06618da30>"
     },
     "execution_count": 19,
     "metadata": {},
     "output_type": "execute_result"
    }
   ],
   "source": [
    "model.load(os.path.join('train/best_model_88000'))"
   ],
   "metadata": {
    "collapsed": false,
    "pycharm": {
     "name": "#%%\n"
    }
   }
  },
  {
   "cell_type": "code",
   "execution_count": 20,
   "outputs": [
    {
     "data": {
      "text/plain": "<stable_baselines3.dqn.dqn.DQN at 0x1f064fee910>"
     },
     "execution_count": 20,
     "metadata": {},
     "output_type": "execute_result"
    }
   ],
   "source": [
    "model"
   ],
   "metadata": {
    "collapsed": false,
    "pycharm": {
     "name": "#%%\n"
    }
   }
  },
  {
   "cell_type": "code",
   "execution_count": 17,
   "outputs": [
    {
     "name": "stdout",
     "output_type": "stream",
     "text": [
      "Total reward episode 0 is 14\n",
      "Total reward episode 1 is 8\n"
     ]
    },
    {
     "ename": "KeyboardInterrupt",
     "evalue": "",
     "output_type": "error",
     "traceback": [
      "\u001B[1;31m---------------------------------------------------------------------------\u001B[0m",
      "\u001B[1;31mKeyboardInterrupt\u001B[0m                         Traceback (most recent call last)",
      "Cell \u001B[1;32mIn [17], line 7\u001B[0m\n\u001B[0;32m      5\u001B[0m \u001B[38;5;28;01mwhile\u001B[39;00m \u001B[38;5;129;01mnot\u001B[39;00m done:\n\u001B[0;32m      6\u001B[0m     action, _ \u001B[38;5;241m=\u001B[39m model\u001B[38;5;241m.\u001B[39mpredict(obs)\n\u001B[1;32m----> 7\u001B[0m     obs, reward, done, info \u001B[38;5;241m=\u001B[39m \u001B[43menv\u001B[49m\u001B[38;5;241;43m.\u001B[39;49m\u001B[43mstep\u001B[49m\u001B[43m(\u001B[49m\u001B[38;5;28;43mint\u001B[39;49m\u001B[43m(\u001B[49m\u001B[43maction\u001B[49m\u001B[43m)\u001B[49m\u001B[43m)\u001B[49m\n\u001B[0;32m      8\u001B[0m     total_reward \u001B[38;5;241m+\u001B[39m\u001B[38;5;241m=\u001B[39m reward\n\u001B[0;32m      9\u001B[0m \u001B[38;5;28mprint\u001B[39m(\u001B[38;5;124mf\u001B[39m\u001B[38;5;124m'\u001B[39m\u001B[38;5;124mTotal reward episode \u001B[39m\u001B[38;5;132;01m{\u001B[39;00mepisode\u001B[38;5;132;01m}\u001B[39;00m\u001B[38;5;124m is \u001B[39m\u001B[38;5;132;01m{\u001B[39;00mtotal_reward\u001B[38;5;132;01m}\u001B[39;00m\u001B[38;5;124m'\u001B[39m)\n",
      "Cell \u001B[1;32mIn [2], line 19\u001B[0m, in \u001B[0;36mWebGame.step\u001B[1;34m(self, action)\u001B[0m\n\u001B[0;32m     13\u001B[0m action_map \u001B[38;5;241m=\u001B[39m {\n\u001B[0;32m     14\u001B[0m     \u001B[38;5;241m0\u001B[39m:\u001B[38;5;124m'\u001B[39m\u001B[38;5;124mspace\u001B[39m\u001B[38;5;124m'\u001B[39m,\n\u001B[0;32m     15\u001B[0m     \u001B[38;5;241m1\u001B[39m:\u001B[38;5;124m'\u001B[39m\u001B[38;5;124mdown\u001B[39m\u001B[38;5;124m'\u001B[39m,\n\u001B[0;32m     16\u001B[0m     \u001B[38;5;241m2\u001B[39m:\u001B[38;5;124m'\u001B[39m\u001B[38;5;124mno_op\u001B[39m\u001B[38;5;124m'\u001B[39m\n\u001B[0;32m     17\u001B[0m }\n\u001B[0;32m     18\u001B[0m \u001B[38;5;28;01mif\u001B[39;00m action \u001B[38;5;241m!=\u001B[39m \u001B[38;5;241m2\u001B[39m:\n\u001B[1;32m---> 19\u001B[0m     \u001B[43mpydirectinput\u001B[49m\u001B[38;5;241;43m.\u001B[39;49m\u001B[43mpress\u001B[49m\u001B[43m(\u001B[49m\u001B[43maction_map\u001B[49m\u001B[43m[\u001B[49m\u001B[43maction\u001B[49m\u001B[43m]\u001B[49m\u001B[43m)\u001B[49m\n\u001B[0;32m     20\u001B[0m done, done_cap \u001B[38;5;241m=\u001B[39m \u001B[38;5;28mself\u001B[39m\u001B[38;5;241m.\u001B[39mget_done()\n\u001B[0;32m     21\u001B[0m new_observation \u001B[38;5;241m=\u001B[39m \u001B[38;5;28mself\u001B[39m\u001B[38;5;241m.\u001B[39mget_observation()\n",
      "File \u001B[1;32m~\\PycharmProjects\\pythonProject6\\venv\\lib\\site-packages\\pydirectinput\\__init__.py:242\u001B[0m, in \u001B[0;36m_genericPyDirectInputChecks.<locals>.wrapper\u001B[1;34m(*args, **kwargs)\u001B[0m\n\u001B[0;32m    239\u001B[0m funcArgs \u001B[38;5;241m=\u001B[39m inspect\u001B[38;5;241m.\u001B[39mgetcallargs(wrappedFunction, \u001B[38;5;241m*\u001B[39margs, \u001B[38;5;241m*\u001B[39m\u001B[38;5;241m*\u001B[39mkwargs)\n\u001B[0;32m    241\u001B[0m failSafeCheck()\n\u001B[1;32m--> 242\u001B[0m returnVal \u001B[38;5;241m=\u001B[39m wrappedFunction(\u001B[38;5;241m*\u001B[39margs, \u001B[38;5;241m*\u001B[39m\u001B[38;5;241m*\u001B[39mkwargs)\n\u001B[0;32m    243\u001B[0m _handlePause(funcArgs\u001B[38;5;241m.\u001B[39mget(\u001B[38;5;124m\"\u001B[39m\u001B[38;5;124m_pause\u001B[39m\u001B[38;5;124m\"\u001B[39m))\n\u001B[0;32m    244\u001B[0m \u001B[38;5;28;01mreturn\u001B[39;00m returnVal\n",
      "File \u001B[1;32m~\\PycharmProjects\\pythonProject6\\venv\\lib\\site-packages\\pydirectinput\\__init__.py:544\u001B[0m, in \u001B[0;36mpress\u001B[1;34m(keys, presses, interval, logScreenshot, _pause)\u001B[0m\n\u001B[0;32m    542\u001B[0m \u001B[38;5;28;01mfor\u001B[39;00m k \u001B[38;5;129;01min\u001B[39;00m keys:\n\u001B[0;32m    543\u001B[0m     failSafeCheck()\n\u001B[1;32m--> 544\u001B[0m     downed \u001B[38;5;241m=\u001B[39m \u001B[43mkeyDown\u001B[49m\u001B[43m(\u001B[49m\u001B[43mk\u001B[49m\u001B[43m)\u001B[49m\n\u001B[0;32m    545\u001B[0m     upped \u001B[38;5;241m=\u001B[39m keyUp(k)\n\u001B[0;32m    546\u001B[0m     \u001B[38;5;66;03m# Count key press as complete if key was \"downed\" and \"upped\" successfully\u001B[39;00m\n",
      "File \u001B[1;32m~\\PycharmProjects\\pythonProject6\\venv\\lib\\site-packages\\pydirectinput\\__init__.py:243\u001B[0m, in \u001B[0;36m_genericPyDirectInputChecks.<locals>.wrapper\u001B[1;34m(*args, **kwargs)\u001B[0m\n\u001B[0;32m    241\u001B[0m failSafeCheck()\n\u001B[0;32m    242\u001B[0m returnVal \u001B[38;5;241m=\u001B[39m wrappedFunction(\u001B[38;5;241m*\u001B[39margs, \u001B[38;5;241m*\u001B[39m\u001B[38;5;241m*\u001B[39mkwargs)\n\u001B[1;32m--> 243\u001B[0m \u001B[43m_handlePause\u001B[49m\u001B[43m(\u001B[49m\u001B[43mfuncArgs\u001B[49m\u001B[38;5;241;43m.\u001B[39;49m\u001B[43mget\u001B[49m\u001B[43m(\u001B[49m\u001B[38;5;124;43m\"\u001B[39;49m\u001B[38;5;124;43m_pause\u001B[39;49m\u001B[38;5;124;43m\"\u001B[39;49m\u001B[43m)\u001B[49m\u001B[43m)\u001B[49m\n\u001B[0;32m    244\u001B[0m \u001B[38;5;28;01mreturn\u001B[39;00m returnVal\n",
      "File \u001B[1;32m~\\PycharmProjects\\pythonProject6\\venv\\lib\\site-packages\\pydirectinput\\__init__.py:232\u001B[0m, in \u001B[0;36m_handlePause\u001B[1;34m(_pause)\u001B[0m\n\u001B[0;32m    230\u001B[0m \u001B[38;5;28;01mif\u001B[39;00m _pause:\n\u001B[0;32m    231\u001B[0m     \u001B[38;5;28;01massert\u001B[39;00m \u001B[38;5;28misinstance\u001B[39m(PAUSE, \u001B[38;5;28mint\u001B[39m) \u001B[38;5;129;01mor\u001B[39;00m \u001B[38;5;28misinstance\u001B[39m(PAUSE, \u001B[38;5;28mfloat\u001B[39m)\n\u001B[1;32m--> 232\u001B[0m     \u001B[43mtime\u001B[49m\u001B[38;5;241;43m.\u001B[39;49m\u001B[43msleep\u001B[49m\u001B[43m(\u001B[49m\u001B[43mPAUSE\u001B[49m\u001B[43m)\u001B[49m\n",
      "\u001B[1;31mKeyboardInterrupt\u001B[0m: "
     ]
    }
   ],
   "source": [
    "for episode in range(10):\n",
    "    obs = env.reset()\n",
    "    done = False\n",
    "    total_reward = 0\n",
    "    while not done:\n",
    "        action, _ = model.predict(obs)\n",
    "        obs, reward, done, info = env.step(int(action))\n",
    "        total_reward += reward\n",
    "    print(f'Total reward episode {episode} is {total_reward}')\n"
   ],
   "metadata": {
    "collapsed": false,
    "pycharm": {
     "name": "#%%\n"
    }
   }
  },
  {
   "cell_type": "code",
   "execution_count": null,
   "outputs": [],
   "source": [],
   "metadata": {
    "collapsed": false,
    "pycharm": {
     "name": "#%%\n"
    }
   }
  }
 ],
 "metadata": {
  "kernelspec": {
   "display_name": "Python 3",
   "language": "python",
   "name": "python3"
  },
  "language_info": {
   "codemirror_mode": {
    "name": "ipython",
    "version": 2
   },
   "file_extension": ".py",
   "mimetype": "text/x-python",
   "name": "python",
   "nbconvert_exporter": "python",
   "pygments_lexer": "ipython2",
   "version": "2.7.6"
  }
 },
 "nbformat": 4,
 "nbformat_minor": 0
}